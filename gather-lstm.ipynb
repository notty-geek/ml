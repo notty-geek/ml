{
 "cells": [
  {
   "cell_type": "code",
   "execution_count": 1,
   "metadata": {},
   "outputs": [
    {
     "name": "stdout",
     "output_type": "stream",
     "text": [
      "['Z=0.5', 'Z=1', 'Z=1.5', 'Z=1.8', '__MACOSX']\n"
     ]
    }
   ],
   "source": [
    " # This Python 3 environment comes with many helpful analytics libraries installed\n",
    "# It is defined by the kaggle/python docker image: https://github.com/kaggle/docker-python\n",
    "# For example, here's several helpful packages to load in \n",
    "\n",
    "import numpy as np # linear algebra\n",
    "import pandas as pd # data processing, CSV file I/O (e.g. pd.read_csv)\n",
    "\n",
    "# Input data files are available in the \"../input/\" directory.\n",
    "# For example, running this (by clicking run or pressing Shift+Enter) will list the files in the input directory\n",
    "\n",
    "import os\n",
    "print(os.listdir(\"archive/\"))"
   ]
  },
  {
   "cell_type": "code",
   "execution_count": 2,
   "metadata": {},
   "outputs": [
    {
     "name": "stdout",
     "output_type": "stream",
     "text": [
      "C://Users//sahil//Downloads//Archive//Z=1//Z=1.0_10000.txt\n",
      "C://Users//sahil//Downloads//Archive//Z=1//Z=1.0_100000.txt\n",
      "C://Users//sahil//Downloads//Archive//Z=1//Z=1.0_10000000.txt\n",
      "C://Users//sahil//Downloads//Archive//Z=1//Z=1.0_1200000.txt\n",
      "C://Users//sahil//Downloads//Archive//Z=1//Z=1.0_12000000.txt\n",
      "C://Users//sahil//Downloads//Archive//Z=1//Z=1.0_14800000.txt\n",
      "C://Users//sahil//Downloads//Archive//Z=1//Z=1.0_152000.txt\n",
      "C://Users//sahil//Downloads//Archive//Z=1//Z=1.0_1800000.txt\n",
      "C://Users//sahil//Downloads//Archive//Z=1//Z=1.0_18800000.txt\n",
      "C://Users//sahil//Downloads//Archive//Z=1//Z=1.0_20000.txt\n",
      "C://Users//sahil//Downloads//Archive//Z=1//Z=1.0_2200.txt\n",
      "C://Users//sahil//Downloads//Archive//Z=1//Z=1.0_224000.txt\n",
      "C://Users//sahil//Downloads//Archive//Z=1//Z=1.0_22800000.txt\n",
      "C://Users//sahil//Downloads//Archive//Z=1//Z=1.0_2480000.txt\n",
      "C://Users//sahil//Downloads//Archive//Z=1//Z=1.0_27600000.txt\n",
      "C://Users//sahil//Downloads//Archive//Z=1//Z=1.0_3280000.txt\n",
      "C://Users//sahil//Downloads//Archive//Z=1//Z=1.0_332000.txt\n",
      "C://Users//sahil//Downloads//Archive//Z=1//Z=1.0_34000000.txt\n",
      "C://Users//sahil//Downloads//Archive//Z=1//Z=1.0_36000.txt\n",
      "C://Users//sahil//Downloads//Archive//Z=1//Z=1.0_40000000.txt\n",
      "C://Users//sahil//Downloads//Archive//Z=1//Z=1.0_4120000.txt\n",
      "C://Users//sahil//Downloads//Archive//Z=1//Z=1.0_46000000.txt\n",
      "C://Users//sahil//Downloads//Archive//Z=1//Z=1.0_4800.txt\n",
      "C://Users//sahil//Downloads//Archive//Z=1//Z=1.0_520000.txt\n",
      "C://Users//sahil//Downloads//Archive//Z=1//Z=1.0_5200000.txt\n",
      "C://Users//sahil//Downloads//Archive//Z=1//Z=1.0_52000000.txt\n",
      "C://Users//sahil//Downloads//Archive//Z=1//Z=1.0_60000.txt\n",
      "C://Users//sahil//Downloads//Archive//Z=1//Z=1.0_60000000.txt\n",
      "C://Users//sahil//Downloads//Archive//Z=1//Z=1.0_6400000.txt\n",
      "C://Users//sahil//Downloads//Archive//Z=1//Z=1.0_70000000.txt\n",
      "C://Users//sahil//Downloads//Archive//Z=1//Z=1.0_800000.txt\n",
      "C://Users//sahil//Downloads//Archive//Z=1//Z=1.0_80000000.txt\n",
      "C://Users//sahil//Downloads//Archive//Z=1//Z=1.0_8400000.txt\n",
      "C://Users//sahil//Downloads//Archive//Z=1//Z=1.0_95200000.txt\n",
      "C://Users//sahil//Downloads//Archive//Z=1//Z=1.0_noise1_10000.txt\n",
      "C://Users//sahil//Downloads//Archive//Z=1//Z=1.0_noise1_100000.txt\n",
      "C://Users//sahil//Downloads//Archive//Z=1//Z=1.0_noise1_10000000.txt\n",
      "C://Users//sahil//Downloads//Archive//Z=1//Z=1.0_noise1_1200000.txt\n",
      "C://Users//sahil//Downloads//Archive//Z=1//Z=1.0_noise1_12000000.txt\n",
      "C://Users//sahil//Downloads//Archive//Z=1//Z=1.0_noise1_14800000.txt\n",
      "C://Users//sahil//Downloads//Archive//Z=1//Z=1.0_noise1_152000.txt\n",
      "C://Users//sahil//Downloads//Archive//Z=1//Z=1.0_noise1_1800000.txt\n",
      "C://Users//sahil//Downloads//Archive//Z=1//Z=1.0_noise1_18800000.txt\n",
      "C://Users//sahil//Downloads//Archive//Z=1//Z=1.0_noise1_20000.txt\n",
      "C://Users//sahil//Downloads//Archive//Z=1//Z=1.0_noise1_2200.txt\n",
      "C://Users//sahil//Downloads//Archive//Z=1//Z=1.0_noise1_224000.txt\n",
      "C://Users//sahil//Downloads//Archive//Z=1//Z=1.0_noise1_22800000.txt\n",
      "C://Users//sahil//Downloads//Archive//Z=1//Z=1.0_noise1_2480000.txt\n",
      "C://Users//sahil//Downloads//Archive//Z=1//Z=1.0_noise1_27600000.txt\n",
      "C://Users//sahil//Downloads//Archive//Z=1//Z=1.0_noise1_3280000.txt\n",
      "C://Users//sahil//Downloads//Archive//Z=1//Z=1.0_noise1_332000.txt\n",
      "C://Users//sahil//Downloads//Archive//Z=1//Z=1.0_noise1_34000000.txt\n",
      "C://Users//sahil//Downloads//Archive//Z=1//Z=1.0_noise1_36000.txt\n",
      "C://Users//sahil//Downloads//Archive//Z=1//Z=1.0_noise1_40000000.txt\n",
      "C://Users//sahil//Downloads//Archive//Z=1//Z=1.0_noise1_4120000.txt\n",
      "C://Users//sahil//Downloads//Archive//Z=1//Z=1.0_noise1_46000000.txt\n",
      "C://Users//sahil//Downloads//Archive//Z=1//Z=1.0_noise1_4800.txt\n",
      "C://Users//sahil//Downloads//Archive//Z=1//Z=1.0_noise1_520000.txt\n",
      "C://Users//sahil//Downloads//Archive//Z=1//Z=1.0_noise1_5200000.txt\n",
      "C://Users//sahil//Downloads//Archive//Z=1//Z=1.0_noise1_52000000.txt\n",
      "C://Users//sahil//Downloads//Archive//Z=1//Z=1.0_noise1_60000.txt\n",
      "C://Users//sahil//Downloads//Archive//Z=1//Z=1.0_noise1_60000000.txt\n",
      "C://Users//sahil//Downloads//Archive//Z=1//Z=1.0_noise1_6400000.txt\n",
      "C://Users//sahil//Downloads//Archive//Z=1//Z=1.0_noise1_70000000.txt\n",
      "C://Users//sahil//Downloads//Archive//Z=1//Z=1.0_noise1_800000.txt\n",
      "C://Users//sahil//Downloads//Archive//Z=1//Z=1.0_noise1_80000000.txt\n",
      "C://Users//sahil//Downloads//Archive//Z=1//Z=1.0_noise1_8400000.txt\n",
      "C://Users//sahil//Downloads//Archive//Z=1//Z=1.0_noise1_95200000.txt\n",
      "C://Users//sahil//Downloads//Archive//Z=1//Z=1.0_noise2_10000.txt\n",
      "C://Users//sahil//Downloads//Archive//Z=1//Z=1.0_noise2_100000.txt\n",
      "C://Users//sahil//Downloads//Archive//Z=1//Z=1.0_noise2_10000000.txt\n",
      "C://Users//sahil//Downloads//Archive//Z=1//Z=1.0_noise2_1200000.txt\n",
      "C://Users//sahil//Downloads//Archive//Z=1//Z=1.0_noise2_12000000.txt\n",
      "C://Users//sahil//Downloads//Archive//Z=1//Z=1.0_noise2_14800000.txt\n",
      "C://Users//sahil//Downloads//Archive//Z=1//Z=1.0_noise2_152000.txt\n",
      "C://Users//sahil//Downloads//Archive//Z=1//Z=1.0_noise2_1800000.txt\n",
      "C://Users//sahil//Downloads//Archive//Z=1//Z=1.0_noise2_18800000.txt\n",
      "C://Users//sahil//Downloads//Archive//Z=1//Z=1.0_noise2_20000.txt\n",
      "C://Users//sahil//Downloads//Archive//Z=1//Z=1.0_noise2_2200.txt\n",
      "C://Users//sahil//Downloads//Archive//Z=1//Z=1.0_noise2_224000.txt\n",
      "C://Users//sahil//Downloads//Archive//Z=1//Z=1.0_noise2_22800000.txt\n",
      "C://Users//sahil//Downloads//Archive//Z=1//Z=1.0_noise2_2480000.txt\n",
      "C://Users//sahil//Downloads//Archive//Z=1//Z=1.0_noise2_27600000.txt\n",
      "C://Users//sahil//Downloads//Archive//Z=1//Z=1.0_noise2_3280000.txt\n",
      "C://Users//sahil//Downloads//Archive//Z=1//Z=1.0_noise2_332000.txt\n",
      "C://Users//sahil//Downloads//Archive//Z=1//Z=1.0_noise2_34000000.txt\n",
      "C://Users//sahil//Downloads//Archive//Z=1//Z=1.0_noise2_36000.txt\n",
      "C://Users//sahil//Downloads//Archive//Z=1//Z=1.0_noise2_40000000.txt\n",
      "C://Users//sahil//Downloads//Archive//Z=1//Z=1.0_noise2_4120000.txt\n",
      "C://Users//sahil//Downloads//Archive//Z=1//Z=1.0_noise2_46000000.txt\n",
      "C://Users//sahil//Downloads//Archive//Z=1//Z=1.0_noise2_4800.txt\n",
      "C://Users//sahil//Downloads//Archive//Z=1//Z=1.0_noise2_520000.txt\n",
      "C://Users//sahil//Downloads//Archive//Z=1//Z=1.0_noise2_5200000.txt\n",
      "C://Users//sahil//Downloads//Archive//Z=1//Z=1.0_noise2_52000000.txt\n",
      "C://Users//sahil//Downloads//Archive//Z=1//Z=1.0_noise2_60000.txt\n",
      "C://Users//sahil//Downloads//Archive//Z=1//Z=1.0_noise2_60000000.txt\n",
      "C://Users//sahil//Downloads//Archive//Z=1//Z=1.0_noise2_6400000.txt\n",
      "C://Users//sahil//Downloads//Archive//Z=1//Z=1.0_noise2_70000000.txt\n",
      "C://Users//sahil//Downloads//Archive//Z=1//Z=1.0_noise2_800000.txt\n",
      "C://Users//sahil//Downloads//Archive//Z=1//Z=1.0_noise2_80000000.txt\n",
      "C://Users//sahil//Downloads//Archive//Z=1//Z=1.0_noise2_8400000.txt\n",
      "C://Users//sahil//Downloads//Archive//Z=1//Z=1.0_noise2_95200000.txt\n"
     ]
    }
   ],
   "source": [
    "\"\"\"Step 1 -  Aggregating  from  only 1  folder\"\"\"\n",
    "import os\n",
    "directory='C://Users//sahil//Downloads//Archive//Z=1//'\n",
    "time=[]\n",
    "feature1=[]\n",
    "feature2=[]\n",
    "target=[]\n",
    " \n",
    "for filename in os.listdir(directory):\n",
    "    \n",
    " \n",
    "    file=directory+filename\n",
    "    ext = os.path.splitext(file)[-1].lower()\n",
    "    if ext == \".txt\":\n",
    "        print(file)\n",
    "        try:\n",
    "            \n",
    "            f=open(file,\"r\")\n",
    "            #read  all lines\n",
    "            lines=f.readlines()\n",
    "        except:\n",
    "            f=open(file,\"r\",encoding='utf-16')\n",
    "            #read  all lines\n",
    "            lines=f.readlines()\n",
    "            #creatly  empty list  variables for  feature  1 ,  feature 2  and   target \n",
    "        for x in lines:\n",
    "            time.append(x.split('\\t')[0])\n",
    "            feature1.append(x.split('\\t')[1])#splitting  by delimitator meaning \\t and tak  first element  meaning  feat1 \n",
    "            feature2.append(x.split('\\t')[2])#splitting  by delimitator and tahe  second element  which is  feature 2\n",
    "            target.append((x.split('\\t')[3]).split('\\n')[0])\n",
    "            f.close()"
   ]
  },
  {
   "cell_type": "code",
   "execution_count": 3,
   "metadata": {},
   "outputs": [],
   "source": [
    "import pandas as pd\n",
    "import numpy as np\n",
    "train=pd.DataFrame({'Time':time, 'Feature1':np.array(feature1),'Feature2':np.array(feature2),\n",
    "                    'target':np.array(target)})"
   ]
  },
  {
   "cell_type": "code",
   "execution_count": 4,
   "metadata": {},
   "outputs": [
    {
     "data": {
      "text/plain": [
       "(510102, 4)"
      ]
     },
     "execution_count": 4,
     "metadata": {},
     "output_type": "execute_result"
    }
   ],
   "source": [
    " train.shape"
   ]
  },
  {
   "cell_type": "code",
   "execution_count": 5,
   "metadata": {},
   "outputs": [
    {
     "data": {
      "text/html": [
       "<div>\n",
       "<style scoped>\n",
       "    .dataframe tbody tr th:only-of-type {\n",
       "        vertical-align: middle;\n",
       "    }\n",
       "\n",
       "    .dataframe tbody tr th {\n",
       "        vertical-align: top;\n",
       "    }\n",
       "\n",
       "    .dataframe thead th {\n",
       "        text-align: right;\n",
       "    }\n",
       "</style>\n",
       "<table border=\"1\" class=\"dataframe\">\n",
       "  <thead>\n",
       "    <tr style=\"text-align: right;\">\n",
       "      <th></th>\n",
       "      <th>Time</th>\n",
       "      <th>Feature1</th>\n",
       "      <th>Feature2</th>\n",
       "      <th>target</th>\n",
       "    </tr>\n",
       "  </thead>\n",
       "  <tbody>\n",
       "    <tr>\n",
       "      <th>0</th>\n",
       "      <td>0.0000000000000000e+00</td>\n",
       "      <td>6.4470030817754131e-01</td>\n",
       "      <td>6.4470030817754131e-01</td>\n",
       "      <td>3.1622075309409475e-01</td>\n",
       "    </tr>\n",
       "    <tr>\n",
       "      <th>1</th>\n",
       "      <td>1.0000000000000000e-03</td>\n",
       "      <td>6.4470030817754131e-01</td>\n",
       "      <td>6.4470030817754131e-01</td>\n",
       "      <td>3.1493278683333620e-01</td>\n",
       "    </tr>\n",
       "    <tr>\n",
       "      <th>2</th>\n",
       "      <td>2.0000000000000000e-03</td>\n",
       "      <td>6.4470030817754131e-01</td>\n",
       "      <td>6.4460076164633429e-01</td>\n",
       "      <td>3.1364744351410279e-01</td>\n",
       "    </tr>\n",
       "    <tr>\n",
       "      <th>3</th>\n",
       "      <td>3.0000000000000001e-03</td>\n",
       "      <td>6.4470020863101007e-01</td>\n",
       "      <td>6.4440311254406468e-01</td>\n",
       "      <td>3.1236472306185659e-01</td>\n",
       "    </tr>\n",
       "    <tr>\n",
       "      <th>4</th>\n",
       "      <td>4.0000000000000001e-03</td>\n",
       "      <td>6.4469991143537664e-01</td>\n",
       "      <td>6.4410878925358139e-01</td>\n",
       "      <td>3.1108462538991821e-01</td>\n",
       "    </tr>\n",
       "  </tbody>\n",
       "</table>\n",
       "</div>"
      ],
      "text/plain": [
       "                        Time                   Feature1  \\\n",
       "0     0.0000000000000000e+00     6.4470030817754131e-01   \n",
       "1     1.0000000000000000e-03     6.4470030817754131e-01   \n",
       "2     2.0000000000000000e-03     6.4470030817754131e-01   \n",
       "3     3.0000000000000001e-03     6.4470020863101007e-01   \n",
       "4     4.0000000000000001e-03     6.4469991143537664e-01   \n",
       "\n",
       "                    Feature2                     target  \n",
       "0     6.4470030817754131e-01     3.1622075309409475e-01  \n",
       "1     6.4470030817754131e-01     3.1493278683333620e-01  \n",
       "2     6.4460076164633429e-01     3.1364744351410279e-01  \n",
       "3     6.4440311254406468e-01     3.1236472306185659e-01  \n",
       "4     6.4410878925358139e-01     3.1108462538991821e-01  "
      ]
     },
     "execution_count": 5,
     "metadata": {},
     "output_type": "execute_result"
    }
   ],
   "source": [
    "train.head() "
   ]
  },
  {
   "cell_type": "code",
   "execution_count": 6,
   "metadata": {},
   "outputs": [
    {
     "data": {
      "text/plain": [
       "Time        object\n",
       "Feature1    object\n",
       "Feature2    object\n",
       "target      object\n",
       "dtype: object"
      ]
     },
     "execution_count": 6,
     "metadata": {},
     "output_type": "execute_result"
    }
   ],
   "source": [
    " train.dtypes"
   ]
  },
  {
   "cell_type": "code",
   "execution_count": 7,
   "metadata": {},
   "outputs": [],
   "source": [
    "train['Time']=train['Time'].astype(float)"
   ]
  },
  {
   "cell_type": "code",
   "execution_count": 8,
   "metadata": {},
   "outputs": [],
   "source": [
    "train['Feature1']=train['Feature1'].astype(float)"
   ]
  },
  {
   "cell_type": "code",
   "execution_count": 9,
   "metadata": {},
   "outputs": [],
   "source": [
    "train['Feature2']=train['Feature2'].astype(float)"
   ]
  },
  {
   "cell_type": "code",
   "execution_count": 10,
   "metadata": {},
   "outputs": [],
   "source": [
    "train['target']=train['target'].astype(float)"
   ]
  },
  {
   "cell_type": "code",
   "execution_count": 11,
   "metadata": {},
   "outputs": [
    {
     "data": {
      "text/html": [
       "<div>\n",
       "<style scoped>\n",
       "    .dataframe tbody tr th:only-of-type {\n",
       "        vertical-align: middle;\n",
       "    }\n",
       "\n",
       "    .dataframe tbody tr th {\n",
       "        vertical-align: top;\n",
       "    }\n",
       "\n",
       "    .dataframe thead th {\n",
       "        text-align: right;\n",
       "    }\n",
       "</style>\n",
       "<table border=\"1\" class=\"dataframe\">\n",
       "  <thead>\n",
       "    <tr style=\"text-align: right;\">\n",
       "      <th></th>\n",
       "      <th>Time</th>\n",
       "      <th>Feature1</th>\n",
       "      <th>Feature2</th>\n",
       "      <th>target</th>\n",
       "    </tr>\n",
       "  </thead>\n",
       "  <tbody>\n",
       "    <tr>\n",
       "      <th>Time</th>\n",
       "      <td>1.000000</td>\n",
       "      <td>-0.298701</td>\n",
       "      <td>0.279220</td>\n",
       "      <td>-0.009076</td>\n",
       "    </tr>\n",
       "    <tr>\n",
       "      <th>Feature1</th>\n",
       "      <td>-0.298701</td>\n",
       "      <td>1.000000</td>\n",
       "      <td>-0.474805</td>\n",
       "      <td>0.176141</td>\n",
       "    </tr>\n",
       "    <tr>\n",
       "      <th>Feature2</th>\n",
       "      <td>0.279220</td>\n",
       "      <td>-0.474805</td>\n",
       "      <td>1.000000</td>\n",
       "      <td>0.355129</td>\n",
       "    </tr>\n",
       "    <tr>\n",
       "      <th>target</th>\n",
       "      <td>-0.009076</td>\n",
       "      <td>0.176141</td>\n",
       "      <td>0.355129</td>\n",
       "      <td>1.000000</td>\n",
       "    </tr>\n",
       "  </tbody>\n",
       "</table>\n",
       "</div>"
      ],
      "text/plain": [
       "              Time  Feature1  Feature2    target\n",
       "Time      1.000000 -0.298701  0.279220 -0.009076\n",
       "Feature1 -0.298701  1.000000 -0.474805  0.176141\n",
       "Feature2  0.279220 -0.474805  1.000000  0.355129\n",
       "target   -0.009076  0.176141  0.355129  1.000000"
      ]
     },
     "execution_count": 11,
     "metadata": {},
     "output_type": "execute_result"
    }
   ],
   "source": [
    "train.corr()"
   ]
  },
  {
   "cell_type": "code",
   "execution_count": 12,
   "metadata": {},
   "outputs": [],
   "source": [
    "train.to_csv('data.csv',index=False)"
   ]
  },
  {
   "cell_type": "code",
   "execution_count": 14,
   "metadata": {},
   "outputs": [],
   "source": [
    "from sklearn.preprocessing import StandardScaler"
   ]
  },
  {
   "cell_type": "code",
   "execution_count": 15,
   "metadata": {},
   "outputs": [],
   "source": [
    "def callback_features(X ,size_feat, size_step):\n",
    "    n_features=X.shape[1]\n",
    "    features=[]\n",
    "    feature_names=[]\n",
    "    X=pd.DataFrame(X)\n",
    "    for k in range(size_feat, 0 , -1):\n",
    "        features.append(X.shift(k))\n",
    "        feature_names+=([('Feature%d(t-%d)' % (j+1, k)) for j in range(n_features)])\n",
    "    for  c in range(0,size_step):\n",
    "        features.append(X.shift(-c))\n",
    "        if c==0:\n",
    "            feature_names+=([('Feature%d(t)' % (j+1)) for j in range(n_features)])\n",
    "        else :\n",
    "            feature_names+=([('Feature%d(t-%d)' % (j+1, c)) for j in range(n_features)])\n",
    "    feature_history=pd.concat(features,axis=1)\n",
    "    feature_history.columns=feature_names\n",
    "    return feature_history\n",
    "            "
   ]
  },
  {
   "cell_type": "code",
   "execution_count": 16,
   "metadata": {},
   "outputs": [],
   "source": [
    "training=callback_features(train,1,1)\n",
    "from sklearn.preprocessing import MinMaxScaler\n",
    "training=training.fillna(training.mean())\n",
    "training=np.array(training)\n",
    "\n",
    "#training=enc.fit_transform(training)\n",
    "X, y = training[:, :-1], training[:, -1]\n",
    "  \n"
   ]
  },
  {
   "cell_type": "code",
   "execution_count": 17,
   "metadata": {},
   "outputs": [],
   "source": [
    "enc1=MinMaxScaler()\n",
    "X= enc1.fit_transform(X)"
   ]
  },
  {
   "cell_type": "code",
   "execution_count": 18,
   "metadata": {},
   "outputs": [],
   "source": [
    " X = X.reshape((X.shape[0], 1, X.shape[1]))"
   ]
  },
  {
   "cell_type": "code",
   "execution_count": 19,
   "metadata": {},
   "outputs": [
    {
     "name": "stderr",
     "output_type": "stream",
     "text": [
      "Using TensorFlow backend.\n"
     ]
    },
    {
     "name": "stdout",
     "output_type": "stream",
     "text": [
      "WARNING:tensorflow:From C:\\Users\\sahil\\Anaconda3\\envs\\py3\\lib\\site-packages\\tensorflow\\python\\framework\\op_def_library.py:263: colocate_with (from tensorflow.python.framework.ops) is deprecated and will be removed in a future version.\n",
      "Instructions for updating:\n",
      "Colocations handled automatically by placer.\n",
      "WARNING:tensorflow:From C:\\Users\\sahil\\Anaconda3\\envs\\py3\\lib\\site-packages\\tensorflow\\python\\ops\\math_ops.py:3066: to_int32 (from tensorflow.python.ops.math_ops) is deprecated and will be removed in a future version.\n",
      "Instructions for updating:\n",
      "Use tf.cast instead.\n",
      "Epoch 1/30\n",
      "510102/510102 [==============================] - 40s 78us/step - loss: 0.7251\n",
      "Epoch 2/30\n",
      "510102/510102 [==============================] - 45s 88us/step - loss: 0.7249\n",
      "Epoch 3/30\n",
      "510102/510102 [==============================] - 49s 95us/step - loss: 0.6999\n",
      "Epoch 4/30\n",
      "510102/510102 [==============================] - 43s 83us/step - loss: 0.4645\n",
      "Epoch 5/30\n",
      "510102/510102 [==============================] - 47s 92us/step - loss: 0.2054\n",
      "Epoch 6/30\n",
      "510102/510102 [==============================] - 42s 83us/step - loss: 0.0940\n",
      "Epoch 7/30\n",
      "510102/510102 [==============================] - 43s 84us/step - loss: 0.0768\n",
      "Epoch 8/30\n",
      "510102/510102 [==============================] - 45s 87us/step - loss: 0.0722\n",
      "Epoch 9/30\n",
      "510102/510102 [==============================] - 45s 87us/step - loss: 0.0700\n",
      "Epoch 10/30\n",
      "510102/510102 [==============================] - 40s 79us/step - loss: 0.0617\n",
      "Epoch 11/30\n",
      "510102/510102 [==============================] - 42s 83us/step - loss: 0.0678\n",
      "Epoch 12/30\n",
      "510102/510102 [==============================] - 40s 78us/step - loss: 0.0528\n",
      "Epoch 13/30\n",
      "510102/510102 [==============================] - 46s 91us/step - loss: 0.0537\n",
      "Epoch 14/30\n",
      "510102/510102 [==============================] - 43s 85us/step - loss: 0.0510\n",
      "Epoch 15/30\n",
      "510102/510102 [==============================] - 38s 75us/step - loss: 0.0503\n",
      "Epoch 16/30\n",
      "510102/510102 [==============================] - 43s 85us/step - loss: 0.0513\n",
      "Epoch 17/30\n",
      "510102/510102 [==============================] - 45s 89us/step - loss: 0.0431\n",
      "Epoch 18/30\n",
      "510102/510102 [==============================] - 49s 96us/step - loss: 0.0431\n",
      "Epoch 19/30\n",
      "510102/510102 [==============================] - 45s 88us/step - loss: 0.0451\n",
      "Epoch 20/30\n",
      "510102/510102 [==============================] - 43s 84us/step - loss: 0.0404\n",
      "Epoch 21/30\n",
      "510102/510102 [==============================] - 43s 84us/step - loss: 0.0415\n",
      "Epoch 22/30\n",
      "510102/510102 [==============================] - 40s 79us/step - loss: 0.0399\n",
      "Epoch 23/30\n",
      "510102/510102 [==============================] - 49s 96us/step - loss: 0.0365\n",
      "Epoch 24/30\n",
      "510102/510102 [==============================] - 39s 77us/step - loss: 0.0396\n",
      "Epoch 25/30\n",
      "510102/510102 [==============================] - 40s 78us/step - loss: 0.0378\n",
      "Epoch 26/30\n",
      "510102/510102 [==============================] - 40s 78us/step - loss: 0.0354\n",
      "Epoch 27/30\n",
      "510102/510102 [==============================] - 40s 79us/step - loss: 0.0369\n",
      "Epoch 28/30\n",
      "510102/510102 [==============================] - 48s 95us/step - loss: 0.0364\n",
      "Epoch 29/30\n",
      "510102/510102 [==============================] - 44s 86us/step - loss: 0.0356\n",
      "Epoch 30/30\n",
      "510102/510102 [==============================] - 42s 82us/step - loss: 0.0336\n"
     ]
    },
    {
     "ename": "ModuleNotFoundError",
     "evalue": "No module named 'matplotlib'",
     "output_type": "error",
     "traceback": [
      "\u001b[1;31m---------------------------------------------------------------------------\u001b[0m",
      "\u001b[1;31mModuleNotFoundError\u001b[0m                       Traceback (most recent call last)",
      "\u001b[1;32m<ipython-input-19-857b3595ecfe>\u001b[0m in \u001b[0;36m<module>\u001b[1;34m\u001b[0m\n\u001b[0;32m     17\u001b[0m                   verbose=1, shuffle=False)\n\u001b[0;32m     18\u001b[0m \u001b[1;33m\u001b[0m\u001b[0m\n\u001b[1;32m---> 19\u001b[1;33m \u001b[1;32mimport\u001b[0m  \u001b[0mmatplotlib\u001b[0m\u001b[1;33m\u001b[0m\u001b[1;33m\u001b[0m\u001b[0m\n\u001b[0m\u001b[0;32m     20\u001b[0m \u001b[1;32mfrom\u001b[0m \u001b[0mmatplotlib\u001b[0m \u001b[1;32mimport\u001b[0m \u001b[0mpyplot\u001b[0m\u001b[1;33m\u001b[0m\u001b[1;33m\u001b[0m\u001b[0m\n\u001b[0;32m     21\u001b[0m \u001b[1;33m\u001b[0m\u001b[0m\n",
      "\u001b[1;31mModuleNotFoundError\u001b[0m: No module named 'matplotlib'"
     ]
    }
   ],
   "source": [
    "from keras.models import Sequential\n",
    "from keras.layers import Dense\n",
    "from keras.layers import LSTM\n",
    "from keras.layers import Activation\n",
    "model = Sequential()\n",
    "model.add(LSTM(25, input_shape=(X.shape[1], X.shape[2])))\n",
    "model.add(Dense(25,kernel_initializer='normal',activation='linear'))\n",
    "model.add(Dense(25,kernel_initializer='normal',activation='linear'))\n",
    "model.add(Dense(25,kernel_initializer='normal',activation='linear'))\n",
    "model.add(Dense(25,kernel_initializer='normal',activation='linear'))\n",
    "model.add(Dense(25,kernel_initializer='normal',activation='linear'))\n",
    "model.add(Dense(25,kernel_initializer='normal',activation='linear'))\n",
    "model.add(Dense(1))\n",
    "model.compile(loss='mean_squared_error', optimizer='adam')\n",
    " \n",
    "history = model.fit(X, y, epochs=1000, batch_size=32, \n",
    "                  verbose=1, shuffle=False)\n",
    " \n",
    "import  matplotlib\n",
    "from matplotlib import pyplot \n",
    " "
   ]
  },
  {
   "cell_type": "code",
   "execution_count": 25,
   "metadata": {},
   "outputs": [
    {
     "data": {
      "text/plain": [
       "'Step 2 - Make a dataframe with one  file from  Z=1'"
      ]
     },
     "execution_count": 25,
     "metadata": {},
     "output_type": "execute_result"
    }
   ],
   "source": [
    "\"\"\"Step 2 - Make a dataframe with one  file from  Z=1\"\"\""
   ]
  },
  {
   "cell_type": "code",
   "execution_count": 20,
   "metadata": {},
   "outputs": [],
   "source": [
    "file= \"C://Users//sahil//Downloads//Archive//Z=1///Z=1.0_2480000.txt\""
   ]
  },
  {
   "cell_type": "code",
   "execution_count": 21,
   "metadata": {},
   "outputs": [],
   "source": [
    "time=[]\n",
    "feature1=[]\n",
    "feature2=[]\n",
    "target=[]\n",
    "try:\n",
    "    f=open(file,\"r\")\n",
    "    #read  all lines\n",
    "    lines=f.readlines()\n",
    "except:\n",
    "    f=open(file,\"r\",encoding='utf-16')\n",
    "    #read  all lines\n",
    "    lines=f.readlines()\n",
    "    #creatly  empty list  variables for  feature  1 ,  feature 2  and   target \n",
    "for x in lines:\n",
    "    time.append(x.split('\\t')[0])\n",
    "    feature1.append(x.split('\\t')[1])#splitting  by delimitator meaning \\t and tak  first element  meaning  feat1 \n",
    "    feature2.append(x.split('\\t')[2])#splitting  by delimitator and tahe  second element  which is  feature 2\n",
    "    target.append((x.split('\\t')[3]).split('\\n')[0])\n",
    "    f.close()"
   ]
  },
  {
   "cell_type": "code",
   "execution_count": 22,
   "metadata": {},
   "outputs": [],
   "source": [
    "import pandas as pd\n",
    "import numpy as np\n",
    "test=pd.DataFrame({'Time':time, 'Feature1':np.array(feature1),'Feature2':np.array(feature2),\n",
    "                    'target':np.array(target)})"
   ]
  },
  {
   "cell_type": "code",
   "execution_count": 23,
   "metadata": {},
   "outputs": [],
   "source": [
    "test = test.apply(pd.to_numeric)"
   ]
  },
  {
   "cell_type": "code",
   "execution_count": 24,
   "metadata": {},
   "outputs": [
    {
     "data": {
      "text/plain": [
       "Time        float64\n",
       "Feature1    float64\n",
       "Feature2    float64\n",
       "target      float64\n",
       "dtype: object"
      ]
     },
     "execution_count": 24,
     "metadata": {},
     "output_type": "execute_result"
    }
   ],
   "source": [
    "test.dtypes"
   ]
  },
  {
   "cell_type": "code",
   "execution_count": 25,
   "metadata": {},
   "outputs": [],
   "source": [
    "testing=callback_features(test,1,1)\n",
    "from sklearn.preprocessing import MinMaxScaler\n",
    "testing=testing.fillna(testing.mean())\n",
    "testing=np.array(testing)\n",
    "\n",
    " \n",
    "enc2=MinMaxScaler()  \n",
    "X, y = testing[:, :-1], testing[:, -1]\n",
    "X=enc2.fit_transform(X)"
   ]
  },
  {
   "cell_type": "code",
   "execution_count": 26,
   "metadata": {},
   "outputs": [],
   "source": [
    " X = X.reshape((X.shape[0], 1, X.shape[1]))"
   ]
  },
  {
   "cell_type": "code",
   "execution_count": 27,
   "metadata": {},
   "outputs": [],
   "source": [
    "pred=model.predict(X)"
   ]
  },
  {
   "cell_type": "code",
   "execution_count": 28,
   "metadata": {},
   "outputs": [],
   "source": [
    "from  sklearn.metrics import mean_squared_error"
   ]
  },
  {
   "cell_type": "code",
   "execution_count": 29,
   "metadata": {},
   "outputs": [
    {
     "data": {
      "text/plain": [
       "1.7236118188329768"
      ]
     },
     "execution_count": 29,
     "metadata": {},
     "output_type": "execute_result"
    }
   ],
   "source": [
    " mean_squared_error(pred,y)"
   ]
  },
  {
   "cell_type": "code",
   "execution_count": 30,
   "metadata": {},
   "outputs": [
    {
     "data": {
      "text/plain": [
       "[<matplotlib.lines.Line2D at 0x7f92e748e320>]"
      ]
     },
     "execution_count": 30,
     "metadata": {},
     "output_type": "execute_result"
    },
    {
     "data": {
      "image/png": "[encoded data removed]",
      "text/plain": [
       "<Figure size 432x288 with 1 Axes>"
      ]
     },
     "metadata": {},
     "output_type": "display_data"
    }
   ],
   "source": [
    "pyplot.plot(pred,y)"
   ]
  },
  {
   "cell_type": "code",
   "execution_count": 31,
   "metadata": {},
   "outputs": [
    {
     "data": {
      "image/png": "[encoded data removed]",
      "text/plain": [
       "<Figure size 432x288 with 1 Axes>"
      ]
     },
     "metadata": {},
     "output_type": "display_data"
    }
   ],
   "source": [
    "from matplotlib  import pyplot  as plt\n",
    "pyplot.plot(list(pred), label='prediction')\n",
    "pyplot.plot(list(y), label='real')\n",
    "pyplot.legend()\n",
    "pyplot.show()"
   ]
  },
  {
   "cell_type": "code",
   "execution_count": 32,
   "metadata": {},
   "outputs": [],
   "source": [
    "pd.DataFrame({'real':list(y),'pred':list(pred)} ) .to_csv('train_data.csv',index=False)"
   ]
  }
 ],
 "metadata": {
  "kernelspec": {
   "display_name": "Python 3",
   "language": "python",
   "name": "python3"
  },
  "language_info": {
   "codemirror_mode": {
    "name": "ipython",
    "version": 3
   },
   "file_extension": ".py",
   "mimetype": "text/x-python",
   "name": "python",
   "nbconvert_exporter": "python",
   "pygments_lexer": "ipython3",
   "version": "3.7.3"
  }
 },
 "nbformat": 4,
 "nbformat_minor": 1
}
